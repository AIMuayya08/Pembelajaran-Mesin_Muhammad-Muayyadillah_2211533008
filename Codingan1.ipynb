{
  "nbformat": 4,
  "nbformat_minor": 0,
  "metadata": {
    "colab": {
      "provenance": [],
      "toc_visible": true,
      "authorship_tag": "ABX9TyPvtj/6y4oDduu7LwUms4Rk",
      "include_colab_link": true
    },
    "kernelspec": {
      "name": "python3",
      "display_name": "Python 3"
    },
    "language_info": {
      "name": "python"
    }
  },
  "cells": [
    {
      "cell_type": "markdown",
      "metadata": {
        "id": "view-in-github",
        "colab_type": "text"
      },
      "source": [
        "<a href=\"https://colab.research.google.com/github/AIMuayya08/Pembelajaran-Mesin_Muhammad-Muayyadillah_2211533008/blob/main/Codingan1.ipynb\" target=\"_parent\"><img src=\"https://colab.research.google.com/assets/colab-badge.svg\" alt=\"Open In Colab\"/></a>"
      ]
    },
    {
      "cell_type": "code",
      "execution_count": 1,
      "metadata": {
        "id": "o-Cx95vz7X63"
      },
      "outputs": [],
      "source": [
        "# Packages untuk analysis\n",
        "\n",
        "import pandas as pd\n",
        "\n",
        "import numpy as np\n",
        "\n",
        "from sklearn import svm\n",
        "\n"
      ]
    },
    {
      "cell_type": "code",
      "source": [
        "#Packages untuk visuals\n",
        "\n",
        "import matplotlib.pyplot as plt\n",
        "\n",
        "import seaborn as sns; sns.set(font_scale=1.2)\n"
      ],
      "metadata": {
        "id": "dtu62JA__mBj"
      },
      "execution_count": 2,
      "outputs": []
    },
    {
      "cell_type": "code",
      "source": [
        "# tampilkan chart\n",
        "\n",
        "%matplotlib inline\n",
        "\n"
      ],
      "metadata": {
        "id": "VfjBgENB_r4n"
      },
      "execution_count": 3,
      "outputs": []
    },
    {
      "cell_type": "code",
      "source": [
        "#packages pickle\n",
        "import pickle"
      ],
      "metadata": {
        "id": "pXIEhyON_0sW"
      },
      "execution_count": 4,
      "outputs": []
    },
    {
      "cell_type": "code",
      "source": [],
      "metadata": {
        "id": "R3C1Y_qc_0xN"
      },
      "execution_count": null,
      "outputs": []
    }
  ]
}